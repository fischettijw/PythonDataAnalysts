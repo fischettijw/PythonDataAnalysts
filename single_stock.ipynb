{
 "cells": [
  {
   "cell_type": "markdown",
   "source": [
    "<center><b><h1>Stock Market Technical Analysis</h1></b></center>\r\n",
    "<center><h2>Algorithmic Approach</h2></center>\r\n",
    "<center><h2>for</h2></center>\r\n",
    "<center><h2>Investing in the Stock Market</h2></center>\r\n",
    "<center><h2>using Python</h2></center>\r\n",
    "<br>\r\n",
    "<center><h1>Miguel Secillano</h1></center>\r\n",
    "<center><h3>(2021/22 Science Fair Project)</h3></center>"
   ],
   "metadata": {}
  },
  {
   "cell_type": "markdown",
   "source": [
    "<center><b><h1>---- <del>Single Stock</del> S&P 500 Index Notebook ----</h1></b></center>\r\n",
    "<center><h2>(initial experimentation)</h2></center>"
   ],
   "metadata": {}
  },
  {
   "cell_type": "code",
   "execution_count": 1,
   "source": [
    "import yfinance as yf                               # this is the Yahoo Finance API for Python\r\n",
    "# https://pypi.org/project/yfinance/                  yfinance documentation\r\n",
    "# https://www.youtube.com/watch?v=gnUKkS964WQ         How do I remove columns from a pandas DataFrame?\r\n",
    "# https://www.youtube.com/watch?v=yzIMircGU5I&list=PL5-da3qGB5ICCsgW1MxlZ0Hq8LL5U3u9y           Data Analysis in Python with Pandas\r\n",
    "# https://www.youtube.com/watch?v=nH1gw-slnOo         Create New Column\r\n",
    "import pandas as pd                                 # this is the Database/Dataframe utilities for Python\r\n",
    "import matplotlib.pyplot as plt                     # this is the Ploting routines for Python\r\n",
    "\r\n",
    "plt.style.use('seaborn')                            # this defines the styles of tyhe plots"
   ],
   "outputs": [],
   "metadata": {}
  },
  {
   "cell_type": "code",
   "execution_count": 2,
   "source": [
    "#%%\r\n",
    "%reload_ext autoreload\r\n",
    "%autoreload 2"
   ],
   "outputs": [],
   "metadata": {}
  },
  {
   "cell_type": "code",
   "execution_count": 3,
   "source": [
    "# Helper Functions\r\n",
    "def list_dictionary_pairs(dict):\r\n",
    "    print_stock_symbol_name(dict)\r\n",
    "    for key,value in dict.items():\r\n",
    "        print(key,':',value)\r\n",
    "        \r\n",
    "def print_stock_symbol_name(dict):\r\n",
    "    print(dict['symbol']+':',dict['shortName'])\r\n",
    "    print('='*40)\r\n",
    "    \r\n",
    "def get_historial_data(ticker):\r\n",
    "    return ticker.history(period='max')"
   ],
   "outputs": [],
   "metadata": {}
  },
  {
   "cell_type": "code",
   "execution_count": 4,
   "source": [
    "# ^GSPC     s&p 500 symbol\r\n",
    "# ^DJI      dow jones inductrial average\r\n",
    "stock_ticker = yf.Ticker('^GSPC')\r\n",
    "stock_info =stock_ticker.info"
   ],
   "outputs": [],
   "metadata": {}
  },
  {
   "cell_type": "code",
   "execution_count": 5,
   "source": [
    "stock_info =stock_ticker.info\r\n",
    "list_dictionary_pairs(stock_info)"
   ],
   "outputs": [
    {
     "output_type": "stream",
     "name": "stdout",
     "text": [
      "^GSPC: S&P 500\n",
      "========================================\n",
      "exchange : SNP\n",
      "shortName : S&P 500\n",
      "exchangeTimezoneName : America/New_York\n",
      "exchangeTimezoneShortName : EDT\n",
      "isEsgPopulated : False\n",
      "gmtOffSetMilliseconds : -14400000\n",
      "quoteType : INDEX\n",
      "symbol : ^GSPC\n",
      "messageBoardId : finmb_INDEXGSPC\n",
      "market : us_market\n",
      "previousClose : 4458.58\n",
      "regularMarketOpen : 4474.81\n",
      "twoHundredDayAverage : 4219.9385\n",
      "trailingAnnualDividendYield : None\n",
      "payoutRatio : None\n",
      "volume24Hr : None\n",
      "regularMarketDayHigh : 4492.99\n",
      "navPrice : None\n",
      "averageDailyVolume10Day : 2880690000\n",
      "totalAssets : None\n",
      "regularMarketPreviousClose : 4458.58\n",
      "fiftyDayAverage : 4458.874\n",
      "trailingAnnualDividendRate : None\n",
      "open : 4474.81\n",
      "toCurrency : None\n",
      "averageVolume10days : 2880690000\n",
      "expireDate : None\n",
      "yield : None\n",
      "algorithm : None\n",
      "dividendRate : None\n",
      "exDividendDate : None\n",
      "beta : None\n",
      "circulatingSupply : None\n",
      "startDate : None\n",
      "regularMarketDayLow : 4453.63\n",
      "priceHint : 2\n",
      "currency : USD\n",
      "regularMarketVolume : 950107470\n",
      "lastMarket : None\n",
      "maxSupply : None\n",
      "openInterest : None\n",
      "marketCap : None\n",
      "volumeAllCurrencies : None\n",
      "strikePrice : None\n",
      "averageVolume : 3180672698\n",
      "priceToSalesTrailing12Months : None\n",
      "dayLow : 4453.63\n",
      "ask : 4465.12\n",
      "ytdReturn : None\n",
      "askSize : 0\n",
      "volume : 950107470\n",
      "fiftyTwoWeekHigh : 4545.85\n",
      "forwardPE : None\n",
      "maxAge : 1\n",
      "fromCurrency : None\n",
      "fiveYearAvgDividendYield : None\n",
      "fiftyTwoWeekLow : 3209.45\n",
      "bid : 4463.44\n",
      "tradeable : False\n",
      "dividendYield : None\n",
      "bidSize : 0\n",
      "dayHigh : 4492.99\n",
      "regularMarketPrice : 4465.83\n",
      "logo_url : \n"
     ]
    }
   ],
   "metadata": {}
  },
  {
   "cell_type": "code",
   "execution_count": 6,
   "source": [
    "df_history = get_historial_data(stock_ticker)      # returns a Pandas Dataframe\r\n",
    "print(type(df_history))"
   ],
   "outputs": [
    {
     "output_type": "stream",
     "name": "stdout",
     "text": [
      "<class 'pandas.core.frame.DataFrame'>\n"
     ]
    }
   ],
   "metadata": {}
  },
  {
   "cell_type": "code",
   "execution_count": 7,
   "source": [
    "print(df_history)"
   ],
   "outputs": [
    {
     "output_type": "stream",
     "name": "stdout",
     "text": [
      "                   Open         High          Low        Close      Volume  \\\n",
      "Date                                                                         \n",
      "1927-12-30    17.660000    17.660000    17.660000    17.660000           0   \n",
      "1928-01-03    17.760000    17.760000    17.760000    17.760000           0   \n",
      "1928-01-04    17.719999    17.719999    17.719999    17.719999           0   \n",
      "1928-01-05    17.549999    17.549999    17.549999    17.549999           0   \n",
      "1928-01-06    17.660000    17.660000    17.660000    17.660000           0   \n",
      "...                 ...          ...          ...          ...         ...   \n",
      "2021-09-07  4535.379883  4535.379883  4513.000000  4520.029785  3098870000   \n",
      "2021-09-08  4518.089844  4521.790039  4493.950195  4514.069824  2808480000   \n",
      "2021-09-09  4513.020020  4529.899902  4492.069824  4493.279785  3035300000   \n",
      "2021-09-10  4506.919922  4520.470215  4457.660156  4458.580078  2851140000   \n",
      "2021-09-13  4474.810059  4492.990234  4453.629883  4465.629883   950265669   \n",
      "\n",
      "            Dividends  Stock Splits  \n",
      "Date                                 \n",
      "1927-12-30          0             0  \n",
      "1928-01-03          0             0  \n",
      "1928-01-04          0             0  \n",
      "1928-01-05          0             0  \n",
      "1928-01-06          0             0  \n",
      "...               ...           ...  \n",
      "2021-09-07          0             0  \n",
      "2021-09-08          0             0  \n",
      "2021-09-09          0             0  \n",
      "2021-09-10          0             0  \n",
      "2021-09-13          0             0  \n",
      "\n",
      "[23537 rows x 7 columns]\n"
     ]
    }
   ],
   "metadata": {}
  },
  {
   "cell_type": "code",
   "execution_count": 8,
   "source": [
    "df_history.info()\r\n"
   ],
   "outputs": [
    {
     "output_type": "stream",
     "name": "stdout",
     "text": [
      "<class 'pandas.core.frame.DataFrame'>\n",
      "DatetimeIndex: 23537 entries, 1927-12-30 to 2021-09-13\n",
      "Data columns (total 7 columns):\n",
      " #   Column        Non-Null Count  Dtype  \n",
      "---  ------        --------------  -----  \n",
      " 0   Open          23537 non-null  float64\n",
      " 1   High          23537 non-null  float64\n",
      " 2   Low           23537 non-null  float64\n",
      " 3   Close         23537 non-null  float64\n",
      " 4   Volume        23537 non-null  int64  \n",
      " 5   Dividends     23537 non-null  int64  \n",
      " 6   Stock Splits  23537 non-null  int64  \n",
      "dtypes: float64(4), int64(3)\n",
      "memory usage: 1.4 MB\n"
     ]
    }
   ],
   "metadata": {}
  },
  {
   "cell_type": "code",
   "execution_count": 9,
   "source": [
    "# Set the date as the index of the data frame\r\n",
    "# df_history = df_history.set_index(pd.DatetimeIndex(df_history['Date']))\r\n",
    "df_history.columns\r\n",
    "# df_history = df_history.set_index(pd.DatetimeIndex(df_history.columns[1]))\r\n",
    "# df_history.to_csv('sp500.cvs', index=True)\r\n"
   ],
   "outputs": [
    {
     "output_type": "execute_result",
     "data": {
      "text/plain": [
       "Index(['Open', 'High', 'Low', 'Close', 'Volume', 'Dividends', 'Stock Splits'], dtype='object')"
      ]
     },
     "metadata": {},
     "execution_count": 9
    }
   ],
   "metadata": {}
  },
  {
   "cell_type": "code",
   "execution_count": 10,
   "source": [
    "df_history.drop('Dividends', axis =1, inplace = True)\r\n",
    "df_history.drop('Stock Splits', axis =1, inplace = True)\r\n",
    "\r\n",
    "df_history.columns\r\n",
    "# df_history.to_csv('sp500.cvs', index=True)"
   ],
   "outputs": [
    {
     "output_type": "execute_result",
     "data": {
      "text/plain": [
       "Index(['Open', 'High', 'Low', 'Close', 'Volume'], dtype='object')"
      ]
     },
     "metadata": {},
     "execution_count": 10
    }
   ],
   "metadata": {}
  },
  {
   "cell_type": "code",
   "execution_count": 11,
   "source": [
    "df_history.columns"
   ],
   "outputs": [
    {
     "output_type": "execute_result",
     "data": {
      "text/plain": [
       "Index(['Open', 'High', 'Low', 'Close', 'Volume'], dtype='object')"
      ]
     },
     "metadata": {},
     "execution_count": 11
    }
   ],
   "metadata": {}
  },
  {
   "cell_type": "code",
   "execution_count": 15,
   "source": [
    "# daily_return = df_history.pct_change(1)\r\n",
    "daily_return = df_history['Close'].pct_change(1)"
   ],
   "outputs": [],
   "metadata": {}
  },
  {
   "cell_type": "code",
   "execution_count": 16,
   "source": [
    "daily_return"
   ],
   "outputs": [
    {
     "output_type": "execute_result",
     "data": {
      "text/plain": [
       "Date\n",
       "1927-12-30         NaN\n",
       "1928-01-03    0.005663\n",
       "1928-01-04   -0.002252\n",
       "1928-01-05   -0.009594\n",
       "1928-01-06    0.006268\n",
       "                ...   \n",
       "2021-09-07   -0.003396\n",
       "2021-09-08   -0.001319\n",
       "2021-09-09   -0.004606\n",
       "2021-09-10   -0.007723\n",
       "2021-09-13    0.001581\n",
       "Name: Close, Length: 23537, dtype: float64"
      ]
     },
     "metadata": {},
     "execution_count": 16
    }
   ],
   "metadata": {}
  },
  {
   "cell_type": "code",
   "execution_count": 17,
   "source": [
    "df_history['Daily Return']= daily_return"
   ],
   "outputs": [],
   "metadata": {}
  },
  {
   "cell_type": "code",
   "execution_count": 18,
   "source": [
    "df_history"
   ],
   "outputs": [
    {
     "output_type": "execute_result",
     "data": {
      "text/html": [
       "<div>\n",
       "<style scoped>\n",
       "    .dataframe tbody tr th:only-of-type {\n",
       "        vertical-align: middle;\n",
       "    }\n",
       "\n",
       "    .dataframe tbody tr th {\n",
       "        vertical-align: top;\n",
       "    }\n",
       "\n",
       "    .dataframe thead th {\n",
       "        text-align: right;\n",
       "    }\n",
       "</style>\n",
       "<table border=\"1\" class=\"dataframe\">\n",
       "  <thead>\n",
       "    <tr style=\"text-align: right;\">\n",
       "      <th></th>\n",
       "      <th>Open</th>\n",
       "      <th>High</th>\n",
       "      <th>Low</th>\n",
       "      <th>Close</th>\n",
       "      <th>Volume</th>\n",
       "      <th>Daily Return</th>\n",
       "    </tr>\n",
       "    <tr>\n",
       "      <th>Date</th>\n",
       "      <th></th>\n",
       "      <th></th>\n",
       "      <th></th>\n",
       "      <th></th>\n",
       "      <th></th>\n",
       "      <th></th>\n",
       "    </tr>\n",
       "  </thead>\n",
       "  <tbody>\n",
       "    <tr>\n",
       "      <th>1927-12-30</th>\n",
       "      <td>17.660000</td>\n",
       "      <td>17.660000</td>\n",
       "      <td>17.660000</td>\n",
       "      <td>17.660000</td>\n",
       "      <td>0</td>\n",
       "      <td>NaN</td>\n",
       "    </tr>\n",
       "    <tr>\n",
       "      <th>1928-01-03</th>\n",
       "      <td>17.760000</td>\n",
       "      <td>17.760000</td>\n",
       "      <td>17.760000</td>\n",
       "      <td>17.760000</td>\n",
       "      <td>0</td>\n",
       "      <td>0.005663</td>\n",
       "    </tr>\n",
       "    <tr>\n",
       "      <th>1928-01-04</th>\n",
       "      <td>17.719999</td>\n",
       "      <td>17.719999</td>\n",
       "      <td>17.719999</td>\n",
       "      <td>17.719999</td>\n",
       "      <td>0</td>\n",
       "      <td>-0.002252</td>\n",
       "    </tr>\n",
       "    <tr>\n",
       "      <th>1928-01-05</th>\n",
       "      <td>17.549999</td>\n",
       "      <td>17.549999</td>\n",
       "      <td>17.549999</td>\n",
       "      <td>17.549999</td>\n",
       "      <td>0</td>\n",
       "      <td>-0.009594</td>\n",
       "    </tr>\n",
       "    <tr>\n",
       "      <th>1928-01-06</th>\n",
       "      <td>17.660000</td>\n",
       "      <td>17.660000</td>\n",
       "      <td>17.660000</td>\n",
       "      <td>17.660000</td>\n",
       "      <td>0</td>\n",
       "      <td>0.006268</td>\n",
       "    </tr>\n",
       "    <tr>\n",
       "      <th>...</th>\n",
       "      <td>...</td>\n",
       "      <td>...</td>\n",
       "      <td>...</td>\n",
       "      <td>...</td>\n",
       "      <td>...</td>\n",
       "      <td>...</td>\n",
       "    </tr>\n",
       "    <tr>\n",
       "      <th>2021-09-07</th>\n",
       "      <td>4535.379883</td>\n",
       "      <td>4535.379883</td>\n",
       "      <td>4513.000000</td>\n",
       "      <td>4520.029785</td>\n",
       "      <td>3098870000</td>\n",
       "      <td>-0.003396</td>\n",
       "    </tr>\n",
       "    <tr>\n",
       "      <th>2021-09-08</th>\n",
       "      <td>4518.089844</td>\n",
       "      <td>4521.790039</td>\n",
       "      <td>4493.950195</td>\n",
       "      <td>4514.069824</td>\n",
       "      <td>2808480000</td>\n",
       "      <td>-0.001319</td>\n",
       "    </tr>\n",
       "    <tr>\n",
       "      <th>2021-09-09</th>\n",
       "      <td>4513.020020</td>\n",
       "      <td>4529.899902</td>\n",
       "      <td>4492.069824</td>\n",
       "      <td>4493.279785</td>\n",
       "      <td>3035300000</td>\n",
       "      <td>-0.004606</td>\n",
       "    </tr>\n",
       "    <tr>\n",
       "      <th>2021-09-10</th>\n",
       "      <td>4506.919922</td>\n",
       "      <td>4520.470215</td>\n",
       "      <td>4457.660156</td>\n",
       "      <td>4458.580078</td>\n",
       "      <td>2851140000</td>\n",
       "      <td>-0.007723</td>\n",
       "    </tr>\n",
       "    <tr>\n",
       "      <th>2021-09-13</th>\n",
       "      <td>4474.810059</td>\n",
       "      <td>4492.990234</td>\n",
       "      <td>4453.629883</td>\n",
       "      <td>4465.629883</td>\n",
       "      <td>950265669</td>\n",
       "      <td>0.001581</td>\n",
       "    </tr>\n",
       "  </tbody>\n",
       "</table>\n",
       "<p>23537 rows × 6 columns</p>\n",
       "</div>"
      ],
      "text/plain": [
       "                   Open         High          Low        Close      Volume  \\\n",
       "Date                                                                         \n",
       "1927-12-30    17.660000    17.660000    17.660000    17.660000           0   \n",
       "1928-01-03    17.760000    17.760000    17.760000    17.760000           0   \n",
       "1928-01-04    17.719999    17.719999    17.719999    17.719999           0   \n",
       "1928-01-05    17.549999    17.549999    17.549999    17.549999           0   \n",
       "1928-01-06    17.660000    17.660000    17.660000    17.660000           0   \n",
       "...                 ...          ...          ...          ...         ...   \n",
       "2021-09-07  4535.379883  4535.379883  4513.000000  4520.029785  3098870000   \n",
       "2021-09-08  4518.089844  4521.790039  4493.950195  4514.069824  2808480000   \n",
       "2021-09-09  4513.020020  4529.899902  4492.069824  4493.279785  3035300000   \n",
       "2021-09-10  4506.919922  4520.470215  4457.660156  4458.580078  2851140000   \n",
       "2021-09-13  4474.810059  4492.990234  4453.629883  4465.629883   950265669   \n",
       "\n",
       "            Daily Return  \n",
       "Date                      \n",
       "1927-12-30           NaN  \n",
       "1928-01-03      0.005663  \n",
       "1928-01-04     -0.002252  \n",
       "1928-01-05     -0.009594  \n",
       "1928-01-06      0.006268  \n",
       "...                  ...  \n",
       "2021-09-07     -0.003396  \n",
       "2021-09-08     -0.001319  \n",
       "2021-09-09     -0.004606  \n",
       "2021-09-10     -0.007723  \n",
       "2021-09-13      0.001581  \n",
       "\n",
       "[23537 rows x 6 columns]"
      ]
     },
     "metadata": {},
     "execution_count": 18
    }
   ],
   "metadata": {}
  },
  {
   "cell_type": "code",
   "execution_count": 19,
   "source": [
    "df_history = df_history[1:]          # remove row 0\r\n",
    "df_history"
   ],
   "outputs": [
    {
     "output_type": "execute_result",
     "data": {
      "text/html": [
       "<div>\n",
       "<style scoped>\n",
       "    .dataframe tbody tr th:only-of-type {\n",
       "        vertical-align: middle;\n",
       "    }\n",
       "\n",
       "    .dataframe tbody tr th {\n",
       "        vertical-align: top;\n",
       "    }\n",
       "\n",
       "    .dataframe thead th {\n",
       "        text-align: right;\n",
       "    }\n",
       "</style>\n",
       "<table border=\"1\" class=\"dataframe\">\n",
       "  <thead>\n",
       "    <tr style=\"text-align: right;\">\n",
       "      <th></th>\n",
       "      <th>Open</th>\n",
       "      <th>High</th>\n",
       "      <th>Low</th>\n",
       "      <th>Close</th>\n",
       "      <th>Volume</th>\n",
       "      <th>Daily Return</th>\n",
       "    </tr>\n",
       "    <tr>\n",
       "      <th>Date</th>\n",
       "      <th></th>\n",
       "      <th></th>\n",
       "      <th></th>\n",
       "      <th></th>\n",
       "      <th></th>\n",
       "      <th></th>\n",
       "    </tr>\n",
       "  </thead>\n",
       "  <tbody>\n",
       "    <tr>\n",
       "      <th>1928-01-03</th>\n",
       "      <td>17.760000</td>\n",
       "      <td>17.760000</td>\n",
       "      <td>17.760000</td>\n",
       "      <td>17.760000</td>\n",
       "      <td>0</td>\n",
       "      <td>0.005663</td>\n",
       "    </tr>\n",
       "    <tr>\n",
       "      <th>1928-01-04</th>\n",
       "      <td>17.719999</td>\n",
       "      <td>17.719999</td>\n",
       "      <td>17.719999</td>\n",
       "      <td>17.719999</td>\n",
       "      <td>0</td>\n",
       "      <td>-0.002252</td>\n",
       "    </tr>\n",
       "    <tr>\n",
       "      <th>1928-01-05</th>\n",
       "      <td>17.549999</td>\n",
       "      <td>17.549999</td>\n",
       "      <td>17.549999</td>\n",
       "      <td>17.549999</td>\n",
       "      <td>0</td>\n",
       "      <td>-0.009594</td>\n",
       "    </tr>\n",
       "    <tr>\n",
       "      <th>1928-01-06</th>\n",
       "      <td>17.660000</td>\n",
       "      <td>17.660000</td>\n",
       "      <td>17.660000</td>\n",
       "      <td>17.660000</td>\n",
       "      <td>0</td>\n",
       "      <td>0.006268</td>\n",
       "    </tr>\n",
       "    <tr>\n",
       "      <th>1928-01-09</th>\n",
       "      <td>17.500000</td>\n",
       "      <td>17.500000</td>\n",
       "      <td>17.500000</td>\n",
       "      <td>17.500000</td>\n",
       "      <td>0</td>\n",
       "      <td>-0.009060</td>\n",
       "    </tr>\n",
       "    <tr>\n",
       "      <th>...</th>\n",
       "      <td>...</td>\n",
       "      <td>...</td>\n",
       "      <td>...</td>\n",
       "      <td>...</td>\n",
       "      <td>...</td>\n",
       "      <td>...</td>\n",
       "    </tr>\n",
       "    <tr>\n",
       "      <th>2021-09-07</th>\n",
       "      <td>4535.379883</td>\n",
       "      <td>4535.379883</td>\n",
       "      <td>4513.000000</td>\n",
       "      <td>4520.029785</td>\n",
       "      <td>3098870000</td>\n",
       "      <td>-0.003396</td>\n",
       "    </tr>\n",
       "    <tr>\n",
       "      <th>2021-09-08</th>\n",
       "      <td>4518.089844</td>\n",
       "      <td>4521.790039</td>\n",
       "      <td>4493.950195</td>\n",
       "      <td>4514.069824</td>\n",
       "      <td>2808480000</td>\n",
       "      <td>-0.001319</td>\n",
       "    </tr>\n",
       "    <tr>\n",
       "      <th>2021-09-09</th>\n",
       "      <td>4513.020020</td>\n",
       "      <td>4529.899902</td>\n",
       "      <td>4492.069824</td>\n",
       "      <td>4493.279785</td>\n",
       "      <td>3035300000</td>\n",
       "      <td>-0.004606</td>\n",
       "    </tr>\n",
       "    <tr>\n",
       "      <th>2021-09-10</th>\n",
       "      <td>4506.919922</td>\n",
       "      <td>4520.470215</td>\n",
       "      <td>4457.660156</td>\n",
       "      <td>4458.580078</td>\n",
       "      <td>2851140000</td>\n",
       "      <td>-0.007723</td>\n",
       "    </tr>\n",
       "    <tr>\n",
       "      <th>2021-09-13</th>\n",
       "      <td>4474.810059</td>\n",
       "      <td>4492.990234</td>\n",
       "      <td>4453.629883</td>\n",
       "      <td>4465.629883</td>\n",
       "      <td>950265669</td>\n",
       "      <td>0.001581</td>\n",
       "    </tr>\n",
       "  </tbody>\n",
       "</table>\n",
       "<p>23536 rows × 6 columns</p>\n",
       "</div>"
      ],
      "text/plain": [
       "                   Open         High          Low        Close      Volume  \\\n",
       "Date                                                                         \n",
       "1928-01-03    17.760000    17.760000    17.760000    17.760000           0   \n",
       "1928-01-04    17.719999    17.719999    17.719999    17.719999           0   \n",
       "1928-01-05    17.549999    17.549999    17.549999    17.549999           0   \n",
       "1928-01-06    17.660000    17.660000    17.660000    17.660000           0   \n",
       "1928-01-09    17.500000    17.500000    17.500000    17.500000           0   \n",
       "...                 ...          ...          ...          ...         ...   \n",
       "2021-09-07  4535.379883  4535.379883  4513.000000  4520.029785  3098870000   \n",
       "2021-09-08  4518.089844  4521.790039  4493.950195  4514.069824  2808480000   \n",
       "2021-09-09  4513.020020  4529.899902  4492.069824  4493.279785  3035300000   \n",
       "2021-09-10  4506.919922  4520.470215  4457.660156  4458.580078  2851140000   \n",
       "2021-09-13  4474.810059  4492.990234  4453.629883  4465.629883   950265669   \n",
       "\n",
       "            Daily Return  \n",
       "Date                      \n",
       "1928-01-03      0.005663  \n",
       "1928-01-04     -0.002252  \n",
       "1928-01-05     -0.009594  \n",
       "1928-01-06      0.006268  \n",
       "1928-01-09     -0.009060  \n",
       "...                  ...  \n",
       "2021-09-07     -0.003396  \n",
       "2021-09-08     -0.001319  \n",
       "2021-09-09     -0.004606  \n",
       "2021-09-10     -0.007723  \n",
       "2021-09-13      0.001581  \n",
       "\n",
       "[23536 rows x 6 columns]"
      ]
     },
     "metadata": {},
     "execution_count": 19
    }
   ],
   "metadata": {}
  },
  {
   "cell_type": "code",
   "execution_count": 20,
   "source": [
    "i = 23531\r\n",
    "print(str(df_history.index[i]))\r\n",
    "print(df_history['Daily Return'][i])\r\n",
    "month = str(df_history.index[i]).split('-')[1]\r\n",
    "print(month)    # o is Year    1 is Month      2 is day with time\r\n",
    "print(int(month))\r\n",
    "print(len(df_history))"
   ],
   "outputs": [
    {
     "output_type": "stream",
     "name": "stdout",
     "text": [
      "2021-09-07 00:00:00\n",
      "-0.003395574405981705\n",
      "09\n",
      "9\n",
      "23536\n"
     ]
    }
   ],
   "metadata": {}
  },
  {
   "cell_type": "code",
   "execution_count": null,
   "source": [
    "daily_return_rate = []\r\n",
    "monthly_return_rate = {'01':0,'02':0,'03':0,'04':0,'05':0,'06':0,\r\n",
    "                       '07':0,'08':0,'09':0,'10':0,'11':0,'12':0}\r\n",
    "sum=0\r\n",
    "for i in range(0,len(df_history-1)):\r\n",
    "    month=str(df_history.index[i]).split('-')[1]\r\n",
    "    drr = df_history['Daily Return'][i]\r\n",
    "    daily_return_rate.append((month,drr))\r\n",
    "    monthly_return_rate[month]=monthly_return_rate[month]+drr\r\n",
    "    if i<=20:\r\n",
    "        sum+=float(monthly_return_rate[month])\r\n",
    "        print(sum)\r\n",
    "print('\\n',20,daily_return_rate[20],'\\n')   \r\n",
    "print('\\n',sum,'\\n')   \r\n",
    "    \r\n",
    "n = 0\r\n",
    "for drr in daily_return_rate:\r\n",
    "    print(n,drr)\r\n",
    "    n+=1\r\n",
    "    \r\n",
    "# print(monthly_return_rate['01'], '\\n\\n')\r\n",
    "# print(monthly_return_rate)"
   ],
   "outputs": [],
   "metadata": {}
  },
  {
   "cell_type": "code",
   "execution_count": 35,
   "source": [
    "print('01',monthly_return_rate['01'], '\\n')\r\n",
    "print(monthly_return_rate)"
   ],
   "outputs": [
    {
     "output_type": "stream",
     "name": "stdout",
     "text": [
      "01 1.1401213977701072 \n",
      "\n",
      "{'01': 1.1401213977701072, '02': -0.06886602780141293, '03': 0.45518719239995975, '04': 1.3217151761502346, '05': -0.07730973962063203, '06': 0.7349681106642892, '07': 1.4648312601589217, '08': 0.6533595640734299, '09': -0.9794024855273602, '10': 0.486550017398222, '11': 0.8192954241753544, '12': 1.2724005008379928}\n"
     ]
    }
   ],
   "metadata": {}
  },
  {
   "cell_type": "code",
   "execution_count": 36,
   "source": [
    "for key,value in monthly_return_rate.items():\r\n",
    "    print(key,value)"
   ],
   "outputs": [
    {
     "output_type": "stream",
     "name": "stdout",
     "text": [
      "01 1.1401213977701072\n",
      "02 -0.06886602780141293\n",
      "03 0.45518719239995975\n",
      "04 1.3217151761502346\n",
      "05 -0.07730973962063203\n",
      "06 0.7349681106642892\n",
      "07 1.4648312601589217\n",
      "08 0.6533595640734299\n",
      "09 -0.9794024855273602\n",
      "10 0.486550017398222\n",
      "11 0.8192954241753544\n",
      "12 1.2724005008379928\n"
     ]
    }
   ],
   "metadata": {}
  },
  {
   "cell_type": "code",
   "execution_count": 54,
   "source": [
    "for key,value in monthly_return_rate.items():\r\n",
    "    print(key,value/365)"
   ],
   "outputs": [
    {
     "output_type": "stream",
     "name": "stdout",
     "text": [
      "01 0.0031236202678633076\n",
      "02 -0.00018867404877099433\n",
      "03 0.0012470881983560542\n",
      "04 0.0036211374689047522\n",
      "05 -0.00021180750580995078\n",
      "06 0.002013611262093943\n",
      "07 0.004013236329202525\n",
      "08 0.0017900262029409038\n",
      "09 -0.002683294480896877\n",
      "10 0.0013330137462964986\n",
      "11 0.002244644997740697\n",
      "12 0.0034860287694191586\n"
     ]
    }
   ],
   "metadata": {}
  },
  {
   "cell_type": "code",
   "execution_count": 61,
   "source": [
    "print(len(monthly_return_rate))\r\n",
    "print(monthly_return_rate.items())"
   ],
   "outputs": [
    {
     "output_type": "stream",
     "name": "stdout",
     "text": [
      "12\n",
      "dict_items([('01', 1.1401213977701072), ('02', -0.06886602780141293), ('03', 0.45518719239995975), ('04', 1.3217151761502346), ('05', -0.07730973962063203), ('06', 0.7349681106642892), ('07', 1.4648312601589217), ('08', 0.6533595640734299), ('09', -0.9794024855273602), ('10', 0.486550017398222), ('11', 0.8192954241753544), ('12', 1.2724005008379928)])\n"
     ]
    }
   ],
   "metadata": {}
  },
  {
   "cell_type": "code",
   "execution_count": 65,
   "source": [
    "data = monthly_return_rate\r\n",
    "names = list(data.keys())\r\n",
    "values = list(data.values())\r\n",
    "plt.bar(range(len(data)), values, tick_label=names)"
   ],
   "outputs": [
    {
     "output_type": "execute_result",
     "data": {
      "text/plain": [
       "<BarContainer object of 12 artists>"
      ]
     },
     "metadata": {},
     "execution_count": 65
    },
    {
     "output_type": "display_data",
     "data": {
      "image/png": "[encoded data removed]",
      "text/plain": [
       "<Figure size 576x396 with 1 Axes>"
      ]
     },
     "metadata": {}
    }
   ],
   "metadata": {}
  }
 ],
 "metadata": {
  "orig_nbformat": 4,
  "language_info": {
   "name": "python",
   "version": "3.9.4",
   "mimetype": "text/x-python",
   "codemirror_mode": {
    "name": "ipython",
    "version": 3
   },
   "pygments_lexer": "ipython3",
   "nbconvert_exporter": "python",
   "file_extension": ".py"
  },
  "kernelspec": {
   "name": "python3",
   "display_name": "Python 3.9.4 64-bit"
  },
  "interpreter": {
   "hash": "0fa967826f0dff7bf43157b69b27c7e94f9cd8758e5f7e883b18ae704008f0e9"
  }
 },
 "nbformat": 4,
 "nbformat_minor": 2
}